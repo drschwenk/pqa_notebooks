{
 "cells": [
  {
   "cell_type": "markdown",
   "metadata": {
    "heading_collapsed": true
   },
   "source": [
    "# Table of Contents\n",
    "* [Loading data](#Loading-data)\n",
    "* [Looking at objects](#Looking-at-objects)\n",
    "* [Looking at scenes](#Looking-at-scenes)\n",
    "* [Looking at image complexity](#Looking-at-image-complexity)\n",
    "* [Defining question object categories](#Defining-question-object-categories)\n",
    "* [Displaying random image and questions](#Displaying-random-image-and-questions)\n",
    "* [extacting bounding boxes from segmentation mask](#extacting-bounding-boxes-from-segmentation-mask)\n",
    "* [hide](#hide)\n"
   ]
  },
  {
   "cell_type": "code",
   "execution_count": 1,
   "metadata": {
    "collapsed": true,
    "hidden": true,
    "run_control": {
     "frozen": false,
     "read_only": false
    }
   },
   "outputs": [],
   "source": [
    "%%capture\n",
    "from __future__ import division\n",
    "import numpy as np\n",
    "import pandas as pd\n",
    "import scipy.stats as st\n",
    "import itertools\n",
    "import math\n",
    "from collections import Counter, defaultdict\n",
    "%load_ext autoreload\n",
    "%autoreload 2"
   ]
  },
  {
   "cell_type": "code",
   "execution_count": 2,
   "metadata": {
    "collapsed": true,
    "hidden": true,
    "run_control": {
     "frozen": false,
     "read_only": false
    }
   },
   "outputs": [],
   "source": [
    "%%capture\n",
    "import matplotlib as mpl\n",
    "mpl.use(\"Agg\")\n",
    "import matplotlib.pylab as plt\n",
    "#%matplotlib notebook\n",
    "%matplotlib inline\n",
    "%load_ext base16_mplrc\n",
    "# %base16_mplrc light solarized\n",
    "%base16_mplrc dark solarized\n",
    "plt.rcParams['grid.linewidth'] = 0\n",
    "plt.rcParams['figure.figsize'] = (16.0, 10.0)"
   ]
  },
  {
   "cell_type": "code",
   "execution_count": 3,
   "metadata": {
    "collapsed": true,
    "hidden": true,
    "run_control": {
     "frozen": false,
     "read_only": false
    }
   },
   "outputs": [],
   "source": [
    "import os\n",
    "import itertools\n",
    "import random\n",
    "import cv2\n",
    "import scipy.io as sio\n",
    "import PIL.Image as Image"
   ]
  },
  {
   "cell_type": "markdown",
   "metadata": {
    "heading_collapsed": true
   },
   "source": [
    "# Loading data"
   ]
  },
  {
   "cell_type": "code",
   "execution_count": 4,
   "metadata": {
    "collapsed": true,
    "hidden": true,
    "run_control": {
     "frozen": false,
     "read_only": false
    }
   },
   "outputs": [],
   "source": [
    "ade_matdata = sio.loadmat('./ADE20K_2016_07_26/index_ade20k.mat',  struct_as_record=False, squeeze_me=True)\n",
    "ade_index = ade_matdata['index']"
   ]
  },
  {
   "cell_type": "code",
   "execution_count": 5,
   "metadata": {
    "collapsed": false,
    "hidden": true,
    "run_control": {
     "frozen": false,
     "read_only": false
    }
   },
   "outputs": [
    {
     "data": {
      "text/plain": [
       "['filename',\n",
       " 'folder',\n",
       " 'typeset',\n",
       " 'objectIsPart',\n",
       " 'objectPresence',\n",
       " 'objectcounts',\n",
       " 'objectnames',\n",
       " 'proportionClassIsPart',\n",
       " 'scene',\n",
       " 'wordnet_found',\n",
       " 'wordnet_level1',\n",
       " 'wordnet_synset',\n",
       " 'wordnet_hypernym',\n",
       " 'wordnet_gloss',\n",
       " 'wordnet_synonyms',\n",
       " 'wordnet_frequency']"
      ]
     },
     "execution_count": 5,
     "metadata": {},
     "output_type": "execute_result"
    }
   ],
   "source": [
    "ade_index._fieldnames"
   ]
  },
  {
   "cell_type": "code",
   "execution_count": 6,
   "metadata": {
    "collapsed": true,
    "hidden": true,
    "run_control": {
     "frozen": false,
     "read_only": false
    }
   },
   "outputs": [],
   "source": [
    "image_df = pd.DataFrame([ade_index.filename, ade_index.folder, ade_index.scene]).T\n",
    "image_df.columns = ['filename', 'folder', 'scene']"
   ]
  },
  {
   "cell_type": "code",
   "execution_count": null,
   "metadata": {
    "collapsed": true,
    "hidden": true,
    "run_control": {
     "frozen": false,
     "read_only": false
    }
   },
   "outputs": [],
   "source": []
  },
  {
   "cell_type": "code",
   "execution_count": 10,
   "metadata": {
    "collapsed": false,
    "hidden": true,
    "run_control": {
     "frozen": false,
     "read_only": false
    }
   },
   "outputs": [],
   "source": [
    "obj_df = pd.DataFrame([ade_index.objectnames, ade_index.objectcounts, ade_index.proportionClassIsPart, ade_index.wordnet_found, ade_index.wordnet_level1, \n",
    "                       ade_index.wordnet_synset, ade_index.wordnet_hypernym, ade_index.wordnet_gloss, ade_index.wordnet_synonyms, ade_index.wordnet_frequency]).T\n",
    "obj_df.columns = ['objectnames', 'objectcounts', 'proportionClassIsPart', 'wordnet_found',\n",
    " 'wordnet_level1',\n",
    " 'wordnet_synset',\n",
    " 'wordnet_hypernym',\n",
    " 'wordnet_gloss',\n",
    " 'wordnet_synonyms',\n",
    " 'wordnet_frequency']\n",
    "\n",
    "img_obj_df = pd.DataFrame(ade_index.objectPresence).T\n",
    "img_obj_df.index = image_df['filename']\n",
    "img_obj_df.columns = obj_df['objectnames']"
   ]
  },
  {
   "cell_type": "markdown",
   "metadata": {
    "heading_collapsed": true
   },
   "source": [
    "# Looking at objects"
   ]
  },
  {
   "cell_type": "code",
   "execution_count": 11,
   "metadata": {
    "collapsed": true,
    "hidden": true,
    "run_control": {
     "frozen": false,
     "read_only": false
    }
   },
   "outputs": [],
   "source": [
    "common_objects_df = obj_df[obj_df['objectcounts'] > 50]"
   ]
  },
  {
   "cell_type": "code",
   "execution_count": 12,
   "metadata": {
    "collapsed": false,
    "hidden": true,
    "run_control": {
     "frozen": false,
     "read_only": false
    },
    "scrolled": false
   },
   "outputs": [
    {
     "data": {
      "text/plain": [
       "(495,)"
      ]
     },
     "execution_count": 12,
     "metadata": {},
     "output_type": "execute_result"
    }
   ],
   "source": [
    "common_objects_df['objectnames'].shape"
   ]
  },
  {
   "cell_type": "code",
   "execution_count": 13,
   "metadata": {
    "collapsed": false,
    "hidden": true,
    "run_control": {
     "frozen": false,
     "read_only": false
    }
   },
   "outputs": [],
   "source": [
    "# _ = obj_df[obj_df['wordnet_frequency'] < 6000]['wordnet_frequency'].hist(bins = 60, log=True)"
   ]
  },
  {
   "cell_type": "code",
   "execution_count": 14,
   "metadata": {
    "collapsed": false,
    "hidden": true,
    "run_control": {
     "frozen": false,
     "read_only": false
    }
   },
   "outputs": [],
   "source": [
    "primary_obj_df = common_objects_df[common_objects_df['proportionClassIsPart'] == 0]"
   ]
  },
  {
   "cell_type": "code",
   "execution_count": 15,
   "metadata": {
    "collapsed": false,
    "hidden": true,
    "run_control": {
     "frozen": false,
     "read_only": false
    }
   },
   "outputs": [
    {
     "data": {
      "text/plain": [
       "0.4506219"
      ]
     },
     "execution_count": 15,
     "metadata": {},
     "output_type": "execute_result"
    }
   ],
   "source": [
    "primary_obj_df['objectcounts'].sum() / obj_df['objectcounts'].sum()"
   ]
  },
  {
   "cell_type": "code",
   "execution_count": 16,
   "metadata": {
    "collapsed": false,
    "hidden": true,
    "run_control": {
     "frozen": false,
     "read_only": false
    }
   },
   "outputs": [
    {
     "data": {
      "text/plain": [
       "(305, 10)"
      ]
     },
     "execution_count": 16,
     "metadata": {},
     "output_type": "execute_result"
    }
   ],
   "source": [
    "primary_obj_df.shape"
   ]
  },
  {
   "cell_type": "code",
   "execution_count": 17,
   "metadata": {
    "collapsed": false,
    "hidden": true,
    "run_control": {
     "frozen": false,
     "read_only": false
    }
   },
   "outputs": [],
   "source": [
    "short_names = {}\n",
    "for name in primary_obj_df['objectnames']:\n",
    "    split_names = name.split(',')\n",
    "    for nc in split_names:\n",
    "        if nc not in short_names.values():\n",
    "            short_names[name] = nc.strip()\n",
    "            break"
   ]
  },
  {
   "cell_type": "code",
   "execution_count": 18,
   "metadata": {
    "collapsed": false,
    "hidden": true,
    "run_control": {
     "frozen": false,
     "read_only": false
    }
   },
   "outputs": [
    {
     "data": {
      "text/plain": [
       "305"
      ]
     },
     "execution_count": 18,
     "metadata": {},
     "output_type": "execute_result"
    }
   ],
   "source": [
    "len(short_names)"
   ]
  },
  {
   "cell_type": "code",
   "execution_count": 19,
   "metadata": {
    "collapsed": false,
    "hidden": true,
    "run_control": {
     "frozen": false,
     "read_only": false
    }
   },
   "outputs": [
    {
     "data": {
      "text/plain": [
       "305"
      ]
     },
     "execution_count": 19,
     "metadata": {},
     "output_type": "execute_result"
    }
   ],
   "source": [
    "len(set(short_names.values()))"
   ]
  },
  {
   "cell_type": "code",
   "execution_count": 20,
   "metadata": {
    "collapsed": false,
    "hidden": true,
    "run_control": {
     "frozen": false,
     "read_only": false
    }
   },
   "outputs": [],
   "source": [
    "invert_short_names = {v:k for k,v in short_names.items()}"
   ]
  },
  {
   "cell_type": "code",
   "execution_count": 21,
   "metadata": {
    "collapsed": false,
    "hidden": true,
    "run_control": {
     "frozen": false,
     "read_only": false
    }
   },
   "outputs": [
    {
     "data": {
      "text/plain": [
       "'tank, storage tank'"
      ]
     },
     "execution_count": 21,
     "metadata": {},
     "output_type": "execute_result"
    }
   ],
   "source": [
    "invert_short_names['tank']"
   ]
  },
  {
   "cell_type": "code",
   "execution_count": 22,
   "metadata": {
    "collapsed": false,
    "hidden": true,
    "run_control": {
     "frozen": false,
     "read_only": false
    }
   },
   "outputs": [],
   "source": [
    "# primary_obj_df.sort_values('objectcounts')"
   ]
  },
  {
   "cell_type": "code",
   "execution_count": 23,
   "metadata": {
    "collapsed": false,
    "hidden": true,
    "run_control": {
     "frozen": false,
     "read_only": false
    }
   },
   "outputs": [
    {
     "name": "stderr",
     "output_type": "stream",
     "text": [
      "/usr/local/lib/python3.5/site-packages/ipykernel/__main__.py:1: SettingWithCopyWarning: \n",
      "A value is trying to be set on a copy of a slice from a DataFrame.\n",
      "Try using .loc[row_indexer,col_indexer] = value instead\n",
      "\n",
      "See the caveats in the documentation: http://pandas.pydata.org/pandas-docs/stable/indexing.html#indexing-view-versus-copy\n",
      "  if __name__ == '__main__':\n"
     ]
    }
   ],
   "source": [
    "primary_obj_df['shortname'] = primary_obj_df['objectnames'].apply(lambda x: short_names[x])"
   ]
  },
  {
   "cell_type": "code",
   "execution_count": 24,
   "metadata": {
    "collapsed": false,
    "hidden": true,
    "run_control": {
     "frozen": false,
     "read_only": false
    }
   },
   "outputs": [],
   "source": [
    "# object_annotation_blank = pd.DataFrame(np.hstack((primary_obj_df['shortname'].values.reshape(primary_obj_df.shape[0], 1), np.zeros((primary_obj_df.shape[0], 5)))))\n",
    "# object_annotation_blank.columns = ['shortname', 'metric', 'movable', 'set_on', 'container', 'liquid']"
   ]
  },
  {
   "cell_type": "code",
   "execution_count": 25,
   "metadata": {
    "collapsed": true,
    "hidden": true,
    "run_control": {
     "frozen": false,
     "read_only": false
    }
   },
   "outputs": [],
   "source": [
    "# object_annotation_blank.to_csv('object_annotaions.csv', index=False)"
   ]
  },
  {
   "cell_type": "code",
   "execution_count": 26,
   "metadata": {
    "collapsed": false,
    "hidden": true,
    "run_control": {
     "frozen": false,
     "read_only": false
    }
   },
   "outputs": [],
   "source": [
    "object_properties = pd.read_csv('./object_annotations.csv')"
   ]
  },
  {
   "cell_type": "code",
   "execution_count": null,
   "metadata": {
    "collapsed": true,
    "hidden": true,
    "run_control": {
     "frozen": false,
     "read_only": false
    }
   },
   "outputs": [],
   "source": []
  },
  {
   "cell_type": "code",
   "execution_count": null,
   "metadata": {
    "collapsed": true,
    "hidden": true,
    "run_control": {
     "frozen": false,
     "read_only": false
    }
   },
   "outputs": [],
   "source": []
  },
  {
   "cell_type": "code",
   "execution_count": null,
   "metadata": {
    "collapsed": true,
    "hidden": true,
    "run_control": {
     "frozen": false,
     "read_only": false
    }
   },
   "outputs": [],
   "source": []
  },
  {
   "cell_type": "markdown",
   "metadata": {
    "heading_collapsed": true
   },
   "source": [
    "# Looking at scenes"
   ]
  },
  {
   "cell_type": "code",
   "execution_count": 65,
   "metadata": {
    "collapsed": false,
    "hidden": true,
    "run_control": {
     "frozen": false,
     "read_only": false
    }
   },
   "outputs": [],
   "source": [
    "coarse_scenes = set([sce.split('/')[0] for sce in ade_index.scene.tolist()])"
   ]
  },
  {
   "cell_type": "code",
   "execution_count": 66,
   "metadata": {
    "collapsed": false,
    "hidden": true,
    "run_control": {
     "frozen": false,
     "read_only": false
    }
   },
   "outputs": [],
   "source": [
    "indoor_words = ['indoor', 'interior', 'home', 'shop', 'office', 'hall', 'store']\n",
    "outdoor_words = ['outdoor', 'exterior', 'forest', 'street', 'deck', 'garden', 'house', 'park', 'field', 'arena', 'farm', 'bridge']\n",
    "\n",
    "scenes_by_type = defaultdict(set)\n",
    "for scene in ade_index.scene.tolist():\n",
    "    if set(indoor_words).intersection(set([item for sublist in [sc.split('_') for sc in scene.split('/')] for item in sublist])) or 'room' in scene:\n",
    "        scenes_by_type['indoor'].add(scene)\n",
    "    elif set(outdoor_words).intersection(set([item for sublist in [sc.split('_') for sc in scene.split('/')] for item in sublist])):\n",
    "        scenes_by_type['outdoor'].add(scene)\n",
    "    else:\n",
    "        scenes_by_type['ambiguous'].add(scene)"
   ]
  },
  {
   "cell_type": "code",
   "execution_count": 67,
   "metadata": {
    "collapsed": false,
    "hidden": true,
    "run_control": {
     "frozen": false,
     "read_only": false
    }
   },
   "outputs": [
    {
     "name": "stdout",
     "output_type": "stream",
     "text": [
      "outdoor 177\n",
      "indoor 226\n",
      "ambiguous 469\n"
     ]
    }
   ],
   "source": [
    "for k, v in scenes_by_type.items():\n",
    "    print(k, len(v))"
   ]
  },
  {
   "cell_type": "code",
   "execution_count": 68,
   "metadata": {
    "collapsed": false,
    "hidden": true,
    "run_control": {
     "frozen": false,
     "read_only": false
    }
   },
   "outputs": [],
   "source": [
    "scene_assignments = {}\n",
    "for stype, scene_cats in scenes_by_type.items():\n",
    "    for scene_cat in scene_cats:\n",
    "        scene_assignments[scene_cat] = stype"
   ]
  },
  {
   "cell_type": "code",
   "execution_count": 69,
   "metadata": {
    "collapsed": true,
    "hidden": true,
    "run_control": {
     "frozen": false,
     "read_only": false
    }
   },
   "outputs": [],
   "source": [
    "image_df['setting'] = image_df['scene'].apply(lambda x: scene_assignments[x])"
   ]
  },
  {
   "cell_type": "code",
   "execution_count": 70,
   "metadata": {
    "collapsed": false,
    "hidden": true,
    "run_control": {
     "frozen": false,
     "read_only": false
    }
   },
   "outputs": [],
   "source": [
    "in_out_counts = defaultdict(int)\n",
    "for scene in ade_index.scene.tolist():\n",
    "    in_out_counts[scene_assignments[scene]] += 1"
   ]
  },
  {
   "cell_type": "code",
   "execution_count": 71,
   "metadata": {
    "collapsed": false,
    "hidden": true,
    "run_control": {
     "frozen": false,
     "read_only": false
    }
   },
   "outputs": [
    {
     "data": {
      "text/plain": [
       "defaultdict(int, {'ambiguous': 10805, 'indoor': 7028, 'outdoor': 4377})"
      ]
     },
     "execution_count": 71,
     "metadata": {},
     "output_type": "execute_result"
    }
   ],
   "source": [
    "in_out_counts"
   ]
  },
  {
   "cell_type": "code",
   "execution_count": 72,
   "metadata": {
    "collapsed": false,
    "hidden": true,
    "run_control": {
     "frozen": false,
     "read_only": false
    }
   },
   "outputs": [],
   "source": [
    "word_pieces = []\n",
    "for scene in scenes_by_type['ambiguous']:\n",
    "    word_pieces.extend([item for sublist in [sc.split('_') for sc in scene.split('/')] for item in sublist])"
   ]
  },
  {
   "cell_type": "code",
   "execution_count": null,
   "metadata": {
    "collapsed": true,
    "hidden": true,
    "run_control": {
     "frozen": false,
     "read_only": false
    }
   },
   "outputs": [],
   "source": []
  },
  {
   "cell_type": "markdown",
   "metadata": {
    "heading_collapsed": true
   },
   "source": [
    "# Looking at image complexity"
   ]
  },
  {
   "cell_type": "code",
   "execution_count": 63,
   "metadata": {
    "collapsed": false,
    "hidden": true,
    "run_control": {
     "frozen": false,
     "read_only": false
    }
   },
   "outputs": [],
   "source": [
    "obj_counts = img_obj_df.sum(axis=1)"
   ]
  },
  {
   "cell_type": "code",
   "execution_count": 64,
   "metadata": {
    "collapsed": false,
    "hidden": true,
    "run_control": {
     "frozen": false,
     "read_only": false
    }
   },
   "outputs": [
    {
     "data": {
      "image/png": "[encoded data removed]",
      "text/plain": [
       "<matplotlib.figure.Figure at 0x11812ad68>"
      ]
     },
     "metadata": {},
     "output_type": "display_data"
    }
   ],
   "source": [
    "_ = obj_counts.hist(bins=50)"
   ]
  },
  {
   "cell_type": "markdown",
   "metadata": {},
   "source": [
    "# Defining question object categories"
   ]
  },
  {
   "cell_type": "code",
   "execution_count": 53,
   "metadata": {
    "collapsed": true,
    "run_control": {
     "frozen": false,
     "read_only": false
    }
   },
   "outputs": [],
   "source": [
    "q_cat_defs = {\n",
    "    'vol_cats': ['glass, drinking glass', 'mug', 'bowl', 'bottle', 'box', 'bucket, pail', 'can, tin, tin can', 'container', 'jar'],\n",
    "    'openable_cats': ['chest of drawers, chest, bureau, dresser', 'cabinet'],\n",
    "    'surface_cats': ['coffee table, cocktail table', 'bench', 'counter', 'countertop', 'shelf', 'table']\n",
    "    }"
   ]
  },
  {
   "cell_type": "code",
   "execution_count": 54,
   "metadata": {
    "collapsed": false,
    "run_control": {
     "frozen": false,
     "read_only": false
    }
   },
   "outputs": [],
   "source": [
    "tot_objs = obj_df['objectcounts'].sum()"
   ]
  },
  {
   "cell_type": "code",
   "execution_count": 55,
   "metadata": {
    "collapsed": false,
    "run_control": {
     "frozen": false,
     "read_only": false
    }
   },
   "outputs": [],
   "source": [
    "image_obj_dict = img_obj_df.to_dict(orient='index')"
   ]
  },
  {
   "cell_type": "code",
   "execution_count": 56,
   "metadata": {
    "collapsed": false,
    "run_control": {
     "frozen": false,
     "read_only": false
    },
    "scrolled": true
   },
   "outputs": [],
   "source": [
    "primary_objs = set(primary_obj_df['shortname'].tolist())"
   ]
  },
  {
   "cell_type": "code",
   "execution_count": 57,
   "metadata": {
    "collapsed": false,
    "run_control": {
     "frozen": false,
     "read_only": false
    }
   },
   "outputs": [],
   "source": [
    "# object_properties.index = object_properties['shortname']\n",
    "# del object_properties['shortname']"
   ]
  },
  {
   "cell_type": "code",
   "execution_count": 58,
   "metadata": {
    "collapsed": false,
    "run_control": {
     "frozen": false,
     "read_only": false
    }
   },
   "outputs": [],
   "source": [
    "obj_prop_lookup = defaultdict(list)\n",
    "for ob_name, objs in object_properties.to_dict(orient='index').items():\n",
    "    for prop_type, sel in objs.items():\n",
    "        if sel:\n",
    "            obj_prop_lookup[ob_name].append(prop_type)"
   ]
  },
  {
   "cell_type": "code",
   "execution_count": 59,
   "metadata": {
    "collapsed": false,
    "run_control": {
     "frozen": false,
     "read_only": false
    }
   },
   "outputs": [],
   "source": [
    "image_obj_cat_counts = defaultdict(lambda: defaultdict(int))\n",
    "for img_n, objs in image_obj_dict.items():\n",
    "    for obj, count in objs.items():\n",
    "        if not count:\n",
    "            continue\n",
    "        elif obj in primary_objs:\n",
    "            obj_props = obj_prop_lookup[obj]\n",
    "            for prop in obj_props:\n",
    "                image_obj_cat_counts[img_n][prop] += count"
   ]
  },
  {
   "cell_type": "code",
   "execution_count": 33,
   "metadata": {
    "collapsed": true,
    "run_control": {
     "frozen": false,
     "read_only": false
    }
   },
   "outputs": [],
   "source": [
    "from math import factorial"
   ]
  },
  {
   "cell_type": "code",
   "execution_count": 34,
   "metadata": {
    "collapsed": true,
    "run_control": {
     "frozen": false,
     "read_only": false
    }
   },
   "outputs": [],
   "source": [
    "def n_choose_2(n):\n",
    "    if n < 2:\n",
    "        return 0\n",
    "    else:\n",
    "        return factorial(n) / (2 * factorial(n - 2))"
   ]
  },
  {
   "cell_type": "code",
   "execution_count": 35,
   "metadata": {
    "collapsed": false,
    "run_control": {
     "frozen": false,
     "read_only": false
    }
   },
   "outputs": [],
   "source": [
    "question_expectations = defaultdict(int)\n",
    "\n",
    "for img_n, type_counts in image_obj_cat_counts.items():\n",
    "    if 'metric' in type_counts:\n",
    "        question_expectations['geometry_metric'] += n_choose_2(type_counts['metric'])\n",
    "    if 'movable' in type_counts:\n",
    "        question_expectations['movable'] += type_counts['movable']\n",
    "    if 'set_on' in type_counts:\n",
    "        question_expectations['set_on'] += type_counts['set_on']\n",
    "    if 'container' in type_counts:\n",
    "        question_expectations['container'] += n_choose_2(type_counts['metric'])\n",
    "    if 'liquid' in type_counts:\n",
    "        question_expectations['liquid'] += type_counts['liquid'] "
   ]
  },
  {
   "cell_type": "code",
   "execution_count": 60,
   "metadata": {
    "collapsed": false,
    "run_control": {
     "frozen": false,
     "read_only": false
    }
   },
   "outputs": [],
   "source": [
    "q_est_df = pd.DataFrame(question_expectations, index=[0]).T\n",
    "q_est_df.columns = ['raw_estimate']\n",
    "q_est_df['scaled'] = q_est_df['raw_estimate']\n",
    "\n",
    "q_est_df['scaled'] = q_est_df['scaled']\n",
    "\n",
    "q_est_df.filter(like='geo', axis=0)['scaled'] = q_est_df.filter(like='geo', axis=0)['scaled'] * 0.1\n",
    "\n",
    "q_est_df.ix[q_est_df.index=='geometry_metric', 'scaled'] = q_est_df.ix[q_est_df.index=='geometry_metric', 'scaled'] / 100\n",
    "q_est_df.ix[q_est_df.index=='container', 'scaled'] = q_est_df.ix[q_est_df.index=='container', 'scaled'] / 100"
   ]
  },
  {
   "cell_type": "markdown",
   "metadata": {
    "heading_collapsed": true
   },
   "source": [
    "# Displaying random image and questions"
   ]
  },
  {
   "cell_type": "code",
   "execution_count": 39,
   "metadata": {
    "collapsed": false,
    "hidden": true,
    "run_control": {
     "frozen": false,
     "read_only": false
    }
   },
   "outputs": [],
   "source": [
    "def scene_selection_filter(scene):\n",
    "    return"
   ]
  },
  {
   "cell_type": "code",
   "execution_count": 40,
   "metadata": {
    "collapsed": true,
    "hidden": true,
    "run_control": {
     "frozen": false,
     "read_only": false
    }
   },
   "outputs": [],
   "source": [
    "def object_selection_filter(image_name):\n",
    "    conditions_met = False\n",
    "    return conditions_met"
   ]
  },
  {
   "cell_type": "code",
   "execution_count": 41,
   "metadata": {
    "collapsed": false,
    "hidden": true,
    "run_control": {
     "frozen": false,
     "read_only": false
    }
   },
   "outputs": [],
   "source": [
    "def get_ade_image(image_df, ade_pre = '.', setting=None, obj_categories=None):\n",
    "    global img_n\n",
    "    found = False\n",
    "    while not found:\n",
    "        img_row_to_load = np.random.randint(0, image_df.shape[0])\n",
    "        img_n = img_row_to_load\n",
    "        image_path = os.path.join(ade_pre, image_df.iloc[img_row_to_load]['folder'], image_df.iloc[img_row_to_load]['filename'])\n",
    "        mask_path = os.path.join(ade_pre, image_df.iloc[img_row_to_load]['folder'], image_df.iloc[img_row_to_load]['filename'].replace('.jpg', '_seg.png')) \n",
    "        img_to_disp = Image.open(image_path)\n",
    "        mask = Image.open(mask_path)\n",
    "        if not setting:\n",
    "            found = 'True'\n",
    "        elif image_df.iloc[img_row_to_load]['setting'] == setting:\n",
    "            found = 'True'\n",
    "        else:\n",
    "            pass\n",
    "    return img_to_disp, mask"
   ]
  },
  {
   "cell_type": "code",
   "execution_count": 43,
   "metadata": {
    "collapsed": false,
    "hidden": true,
    "run_control": {
     "frozen": false,
     "read_only": false
    }
   },
   "outputs": [],
   "source": [
    "# raw_image, mask_p1 = get_ade_image(image_df, setting='indoor')"
   ]
  },
  {
   "cell_type": "code",
   "execution_count": 78,
   "metadata": {
    "collapsed": false,
    "hidden": true,
    "run_control": {
     "frozen": false,
     "read_only": false
    }
   },
   "outputs": [
    {
     "data": {
      "image/png": "[encoded data removed]",
      "text/plain": [
       "<PIL.JpegImagePlugin.JpegImageFile image mode=RGB size=333x208 at 0x115BC9748>"
      ]
     },
     "execution_count": 78,
     "metadata": {},
     "output_type": "execute_result"
    }
   ],
   "source": [
    "raw_image"
   ]
  },
  {
   "cell_type": "code",
   "execution_count": 79,
   "metadata": {
    "collapsed": false,
    "hidden": true,
    "run_control": {
     "frozen": false,
     "read_only": false
    }
   },
   "outputs": [
    {
     "data": {
      "image/png": "[encoded data removed]",
      "text/plain": [
       "<PIL.PngImagePlugin.PngImageFile image mode=RGB size=333x208 at 0x11593A160>"
      ]
     },
     "execution_count": 79,
     "metadata": {},
     "output_type": "execute_result"
    }
   ],
   "source": [
    "mask_p1"
   ]
  },
  {
   "cell_type": "code",
   "execution_count": 80,
   "metadata": {
    "collapsed": false,
    "hidden": true,
    "run_control": {
     "frozen": false,
     "read_only": false
    }
   },
   "outputs": [],
   "source": [
    "mask_array = np.array(list(mask_p1.getdata()))"
   ]
  },
  {
   "cell_type": "code",
   "execution_count": null,
   "metadata": {
    "collapsed": true,
    "hidden": true,
    "run_control": {
     "frozen": false,
     "read_only": false
    }
   },
   "outputs": [],
   "source": []
  },
  {
   "cell_type": "code",
   "execution_count": 82,
   "metadata": {
    "collapsed": true,
    "hidden": true,
    "run_control": {
     "frozen": false,
     "read_only": false
    }
   },
   "outputs": [],
   "source": [
    "test_image_df = img_obj_df.iloc[img_n][img_obj_df.iloc[img_n] != 0]"
   ]
  },
  {
   "cell_type": "code",
   "execution_count": 83,
   "metadata": {
    "collapsed": false,
    "hidden": true,
    "run_control": {
     "frozen": false,
     "read_only": false
    }
   },
   "outputs": [
    {
     "data": {
      "text/plain": [
       "objectnames\n",
       "floor, flooring                                        1.0\n",
       "grandstand, covered stand                              1.0\n",
       "painting, picture                                      1.0\n",
       "person, individual, someone, somebody, mortal, soul    1.0\n",
       "wall                                                   2.0\n",
       "Name: ADE_train_00004314.jpg, dtype: float32"
      ]
     },
     "execution_count": 83,
     "metadata": {},
     "output_type": "execute_result"
    }
   ],
   "source": [
    "test_image_df"
   ]
  },
  {
   "cell_type": "code",
   "execution_count": 84,
   "metadata": {
    "collapsed": false,
    "hidden": true,
    "run_control": {
     "frozen": false,
     "read_only": false
    }
   },
   "outputs": [
    {
     "name": "stdout",
     "output_type": "stream",
     "text": [
      "How far is the floor from the wall?\n",
      "How far is the painting from the person?\n",
      "How far is the grandstand from the painting?\n",
      "How far is the person from the wall?\n",
      "How far is the grandstand from the person?\n"
     ]
    }
   ],
   "source": [
    "test_image_objects = img_obj_df.iloc[img_n][img_obj_df.iloc[img_n] != 0].index.tolist()\n",
    "pruned_test_image_objects = [ob.split(',')[0] for ob in test_image_objects]\n",
    "object_combos = list(itertools.combinations(pruned_test_image_objects, 2))\n",
    "\n",
    "for objcts in random.sample(object_combos, 5):\n",
    "    print('How far is the {} from the {}?'.format(*objcts))"
   ]
  },
  {
   "cell_type": "code",
   "execution_count": 73,
   "metadata": {
    "collapsed": false,
    "hidden": true,
    "run_control": {
     "frozen": false,
     "read_only": false
    }
   },
   "outputs": [],
   "source": [
    "dynamics_templates = {\n",
    "    '1_moves_how': 'If the force shown is applied to the {}, how will it move?',\n",
    "    '1_moves_where': 'If the force shown is applied to the {}, where will it end up?',\n",
    "    '1_apply_to_move': 'If we want the {} to end up in the region shown, how should we apply a force?'\n",
    "}\n",
    "\n",
    "statics_templates = {\n",
    "    '2_hypo_removal': '',\n",
    "    '1_apply_to_tip': '',\n",
    "    '1_apply_to_fall': ''\n",
    "}\n",
    "\n",
    "metrics_templates = {\n",
    "    '2_dist_between': 'How far is the {} from the {}?',\n",
    "    '1_farthest_from': 'What is the farthest object from the {}?',\n",
    "    '1_closest_to': 'What is the closest object to the {}?',\n",
    "    '3_maximize_seperation': 'Where should the {} be moved such that is equally far from the {} and the {}'\n",
    "}\n",
    "\n",
    "volume_templates ={\n",
    "    '2_can_fit': 'Can the {} fit inside the {}?',\n",
    "    '1_largest_fit': 'What is the largest object in the scene that will fit inside the {}?',\n",
    "    '2_how_many_fit': 'How many of the {} could fit inside the {}?'\n",
    "}\n",
    "\n",
    "liquid_templates = {\n",
    "    '2_can_liquid_fit': 'Can the {} hold the liquid contained in the {}?',\n",
    "    '1_est_volums': 'How much liquid could the {} hold?',\n",
    "}"
   ]
  },
  {
   "cell_type": "markdown",
   "metadata": {
    "collapsed": true,
    "run_control": {
     "frozen": false,
     "read_only": false
    }
   },
   "source": [
    "# Extacting bounding boxes from segmentation mask"
   ]
  },
  {
   "cell_type": "code",
   "execution_count": 45,
   "metadata": {
    "collapsed": true,
    "run_control": {
     "frozen": false,
     "read_only": false
    }
   },
   "outputs": [],
   "source": [
    "test_image_path = '/Users/schwenk/wrk/pqa/ade20k/ADE20K_2016_07_26/images/training/c/computer_room/'\n",
    "test_image = Image.open(test_image_path + 'ADE_train_00005940.jpg')\n",
    "test_mask = Image.open(test_image_path + 'ADE_train_00005940_seg.png')\n",
    "cv_mask = cv2.imread(test_image_path + 'ADE_train_00005940_seg.png')"
   ]
  },
  {
   "cell_type": "code",
   "execution_count": 47,
   "metadata": {
    "collapsed": false,
    "run_control": {
     "frozen": false,
     "read_only": false
    }
   },
   "outputs": [],
   "source": [
    "# Image.fromarray(cv_mask[::,::,::-1])"
   ]
  },
  {
   "cell_type": "code",
   "execution_count": 48,
   "metadata": {
    "collapsed": false,
    "run_control": {
     "frozen": false,
     "read_only": false
    }
   },
   "outputs": [],
   "source": [
    "# pd.value_counts(r_chan.flatten())\n",
    "# pd.value_counts(g_chan.flatten())\n",
    "# pd.value_counts(b_chan.flatten())"
   ]
  },
  {
   "cell_type": "code",
   "execution_count": 170,
   "metadata": {
    "collapsed": false
   },
   "outputs": [
    {
     "data": {
      "text/plain": [
       "(1000, 1500, 2)"
      ]
     },
     "execution_count": 170,
     "metadata": {},
     "output_type": "execute_result"
    }
   ],
   "source": [
    "b_chan.shape"
   ]
  },
  {
   "cell_type": "code",
   "execution_count": 49,
   "metadata": {
    "collapsed": false,
    "run_control": {
     "frozen": false,
     "read_only": false
    },
    "scrolled": true
   },
   "outputs": [
    {
     "data": {
      "text/plain": [
       "[0,\n",
       " 6,\n",
       " 12,\n",
       " 17,\n",
       " 23,\n",
       " 29,\n",
       " 35,\n",
       " 41,\n",
       " 46,\n",
       " 52,\n",
       " 58,\n",
       " 64,\n",
       " 70,\n",
       " 75,\n",
       " 81,\n",
       " 87,\n",
       " 93,\n",
       " 99,\n",
       " 104,\n",
       " 110,\n",
       " 116,\n",
       " 122,\n",
       " 128,\n",
       " 133,\n",
       " 139,\n",
       " 145,\n",
       " 151,\n",
       " 156,\n",
       " 162,\n",
       " 168,\n",
       " 174,\n",
       " 180,\n",
       " 185,\n",
       " 191,\n",
       " 197,\n",
       " 203,\n",
       " 209,\n",
       " 214,\n",
       " 220,\n",
       " 226,\n",
       " 232,\n",
       " 238,\n",
       " 243,\n",
       " 249,\n",
       " 255]"
      ]
     },
     "execution_count": 49,
     "metadata": {},
     "output_type": "execute_result"
    }
   ],
   "source": [
    "sorted(pd.Series(b_chan.flatten()).value_counts().index.tolist())"
   ]
  },
  {
   "cell_type": "code",
   "execution_count": 50,
   "metadata": {
    "collapsed": false,
    "run_control": {
     "frozen": false,
     "read_only": false
    }
   },
   "outputs": [
    {
     "data": {
      "text/plain": [
       "45"
      ]
     },
     "execution_count": 50,
     "metadata": {},
     "output_type": "execute_result"
    }
   ],
   "source": [
    "len(sorted(pd.Series(b_chan.flatten()).value_counts().index.tolist()))"
   ]
  },
  {
   "cell_type": "code",
   "execution_count": 76,
   "metadata": {
    "collapsed": true
   },
   "outputs": [],
   "source": [
    "obj_df['obj_class'] = obj_df.index + 1"
   ]
  },
  {
   "cell_type": "code",
   "execution_count": 77,
   "metadata": {
    "collapsed": false,
    "run_control": {
     "frozen": false,
     "read_only": false
    }
   },
   "outputs": [
    {
     "data": {
      "text/html": [
       "<div>\n",
       "<table border=\"1\" class=\"dataframe\">\n",
       "  <thead>\n",
       "    <tr style=\"text-align: right;\">\n",
       "      <th></th>\n",
       "      <th>objectnames</th>\n",
       "      <th>objectcounts</th>\n",
       "      <th>proportionClassIsPart</th>\n",
       "      <th>wordnet_found</th>\n",
       "      <th>wordnet_level1</th>\n",
       "      <th>wordnet_synset</th>\n",
       "      <th>wordnet_hypernym</th>\n",
       "      <th>wordnet_gloss</th>\n",
       "      <th>wordnet_synonyms</th>\n",
       "      <th>wordnet_frequency</th>\n",
       "      <th>obj_class</th>\n",
       "    </tr>\n",
       "  </thead>\n",
       "  <tbody>\n",
       "    <tr>\n",
       "      <th>2981</th>\n",
       "      <td>wall socket, wall plug, electric outlet, elect...</td>\n",
       "      <td>1633</td>\n",
       "      <td>0</td>\n",
       "      <td>1</td>\n",
       "      <td>wall socket, wall plug, electric outlet, elect...</td>\n",
       "      <td>wall socket, wall plug, electric outlet, elect...</td>\n",
       "      <td>[wall socket, wall plug, electric outlet, elec...</td>\n",
       "      <td>receptacle providing a place in a wiring syste...</td>\n",
       "      <td>wall socket, wall plug, electric outlet, elect...</td>\n",
       "      <td>1</td>\n",
       "      <td>2982</td>\n",
       "    </tr>\n",
       "  </tbody>\n",
       "</table>\n",
       "</div>"
      ],
      "text/plain": [
       "                                            objectnames objectcounts  \\\n",
       "2981  wall socket, wall plug, electric outlet, elect...         1633   \n",
       "\n",
       "     proportionClassIsPart wordnet_found  \\\n",
       "2981                     0             1   \n",
       "\n",
       "                                         wordnet_level1  \\\n",
       "2981  wall socket, wall plug, electric outlet, elect...   \n",
       "\n",
       "                                         wordnet_synset  \\\n",
       "2981  wall socket, wall plug, electric outlet, elect...   \n",
       "\n",
       "                                       wordnet_hypernym  \\\n",
       "2981  [wall socket, wall plug, electric outlet, elec...   \n",
       "\n",
       "                                          wordnet_gloss  \\\n",
       "2981  receptacle providing a place in a wiring syste...   \n",
       "\n",
       "                                       wordnet_synonyms wordnet_frequency  \\\n",
       "2981  wall socket, wall plug, electric outlet, elect...                 1   \n",
       "\n",
       "      obj_class  \n",
       "2981       2982  "
      ]
     },
     "execution_count": 77,
     "metadata": {},
     "output_type": "execute_result"
    }
   ],
   "source": [
    "sample_n = 2982\n",
    "\n",
    "obj_df[obj_df['obj_class'] == sample_n]"
   ]
  },
  {
   "cell_type": "code",
   "execution_count": 79,
   "metadata": {
    "collapsed": false,
    "run_control": {
     "frozen": false,
     "read_only": false
    }
   },
   "outputs": [],
   "source": [
    "reshaped_b = b_chan.reshape(b_chan.shape[:2])"
   ]
  },
  {
   "cell_type": "code",
   "execution_count": 80,
   "metadata": {
    "collapsed": false,
    "run_control": {
     "frozen": false,
     "read_only": false
    },
    "scrolled": true
   },
   "outputs": [
    {
     "data": {
      "image/png": "[encoded data removed]",
      "text/plain": [
       "<PIL.Image.Image image mode=L size=1500x1000 at 0x297F2ECC0>"
      ]
     },
     "execution_count": 80,
     "metadata": {},
     "output_type": "execute_result"
    }
   ],
   "source": [
    "Image.fromarray(reshaped_b, mode='L')"
   ]
  },
  {
   "cell_type": "code",
   "execution_count": 159,
   "metadata": {
    "collapsed": false
   },
   "outputs": [
    {
     "data": {
      "text/plain": [
       "(1000, 1500)"
      ]
     },
     "execution_count": 159,
     "metadata": {},
     "output_type": "execute_result"
    }
   ],
   "source": [
    "summed_pixel_vals.shape"
   ]
  },
  {
   "cell_type": "code",
   "execution_count": 157,
   "metadata": {
    "collapsed": false
   },
   "outputs": [],
   "source": [
    "def inspect_pixel(rgb_val):\n",
    "    b_chan, g_chan, r_chan = rgb_val\n",
    "    return b_chan"
   ]
  },
  {
   "cell_type": "code",
   "execution_count": 90,
   "metadata": {
    "collapsed": false,
    "run_control": {
     "frozen": false,
     "read_only": false
    }
   },
   "outputs": [],
   "source": [
    "def find_objects(rgb_val):\n",
    "    b_chan, g_chan, r_chan = rgb_val\n",
    "    obj_id = b_chan.items()\n",
    "    obj_class = g_chan.item() * r_chan.item()\n",
    "    if obj_id not in found_objs:\n",
    "        obj"
   ]
  },
  {
   "cell_type": "code",
   "execution_count": 158,
   "metadata": {
    "collapsed": false
   },
   "outputs": [],
   "source": [
    "found_objs = {}\n",
    "obj_mask = np.apply_along_axis(inspect_pixel, 2, cv_mask)  "
   ]
  },
  {
   "cell_type": "code",
   "execution_count": 115,
   "metadata": {
    "collapsed": false
   },
   "outputs": [],
   "source": [
    "vals_seen = []\n",
    "for pix_val in np.nditer(cv_mask, flags=['external_loop'], order='F'):\n",
    "    vals_seen.append(pix_val)"
   ]
  },
  {
   "cell_type": "code",
   "execution_count": null,
   "metadata": {
    "collapsed": true
   },
   "outputs": [],
   "source": [
    "np.apply_over_axes(np.product, cv_mask, [2])"
   ]
  },
  {
   "cell_type": "code",
   "execution_count": null,
   "metadata": {
    "collapsed": true
   },
   "outputs": [],
   "source": [
    "np.apply_over_axes(in)"
   ]
  },
  {
   "cell_type": "code",
   "execution_count": 112,
   "metadata": {
    "collapsed": false
   },
   "outputs": [
    {
     "data": {
      "text/plain": [
       "4500000"
      ]
     },
     "execution_count": 112,
     "metadata": {},
     "output_type": "execute_result"
    }
   ],
   "source": [
    "np.product(cv_mask.shape)"
   ]
  },
  {
   "cell_type": "code",
   "execution_count": 113,
   "metadata": {
    "collapsed": false
   },
   "outputs": [
    {
     "data": {
      "text/plain": [
       "(4500000,)"
      ]
     },
     "execution_count": 113,
     "metadata": {},
     "output_type": "execute_result"
    }
   ],
   "source": [
    "vals_seen[0].shape"
   ]
  },
  {
   "cell_type": "code",
   "execution_count": 114,
   "metadata": {
    "collapsed": false
   },
   "outputs": [
    {
     "data": {
      "text/plain": [
       "1"
      ]
     },
     "execution_count": 114,
     "metadata": {},
     "output_type": "execute_result"
    }
   ],
   "source": [
    "len(vals_seen)"
   ]
  },
  {
   "cell_type": "code",
   "execution_count": 186,
   "metadata": {
    "collapsed": false,
    "run_control": {
     "frozen": false,
     "read_only": false
    }
   },
   "outputs": [
    {
     "data": {
      "text/plain": [
       "2978    580042\n",
       "724     173846\n",
       "976     153352\n",
       "1583    138155\n",
       "591     133850\n",
       "447      73773\n",
       "1499     72796\n",
       "1969     63777\n",
       "202      47640\n",
       "471      19433\n",
       "774      18386\n",
       "0        16546\n",
       "982       4810\n",
       "1614      1966\n",
       "1910      1398\n",
       "2982       230\n",
       "dtype: int64"
      ]
     },
     "execution_count": 186,
     "metadata": {},
     "output_type": "execute_result"
    }
   ],
   "source": [
    "pd.Series(pixel_obj_classes.flatten()).value_counts()"
   ]
  },
  {
   "cell_type": "code",
   "execution_count": 177,
   "metadata": {
    "collapsed": true,
    "run_control": {
     "frozen": false,
     "read_only": false
    }
   },
   "outputs": [],
   "source": [
    "obj_mask = cv_mask[::,::,0:1].reshape(cv_mask.shape[:2])\n",
    "g_chan = cv_mask[::,::,1:2]\n",
    "r_chan = cv_mask[::,::,2:3]\n",
    "\n",
    "class_mask = r_chan.astype(int) / 10 * 256  +  g_chan.astype(int)\n",
    "class_mask = pixel_obj_classes.astype(int)"
   ]
  },
  {
   "cell_type": "code",
   "execution_count": null,
   "metadata": {
    "collapsed": true
   },
   "outputs": [],
   "source": []
  },
  {
   "cell_type": "code",
   "execution_count": 174,
   "metadata": {
    "collapsed": true
   },
   "outputs": [],
   "source": [
    "# class_mask = r_chan = cv_mask[::,::,1:3]\n",
    "# obj_mask = cv_mask[::,::,0:1].reshape(cv_mask.shape[:2])"
   ]
  },
  {
   "cell_type": "code",
   "execution_count": 223,
   "metadata": {
    "collapsed": false
   },
   "outputs": [],
   "source": [
    "def extract_objs_bboxes(label_array):\n",
    "    obj_mask = label_array[::,::,0:1].reshape(label_array.shape[:2])\n",
    "    g_chan = label_array[::,::,1:2]\n",
    "    r_chan = label_array[::,::,2:3]\n",
    "    class_mask = r_chan.astype(int) / 10 * 256  +  g_chan.astype(int)\n",
    "    class_mask = pixel_obj_classes.astype(int)\n",
    "\n",
    "    detections = defaultdict(dict)\n",
    "    mask_iter = np.nditer(obj_mask, flags=['multi_index'])\n",
    "    while not mask_iter.finished:\n",
    "        pix_val = mask_iter[0].item()\n",
    "        x_coord, y_coord = mask_iter.multi_index[:2]\n",
    "        if pix_val not in detections:\n",
    "            detections[pix_val]['objectClass'] = class_mask[x_coord][y_coord].item()\n",
    "            detections[pix_val]['rectangle'] = [x_coord, y_coord] * 2\n",
    "        else:\n",
    "            x_min, y_min, x_max, y_max = detections[pix_val]['rectangle']\n",
    "            if x_coord < x_min:\n",
    "                detections[pix_val]['rectangle'][0] = x_coord\n",
    "            if x_coord > x_max:\n",
    "                detections[pix_val]['rectangle'][1] = x_coord\n",
    "            if y_coord < y_min:\n",
    "                detections[pix_val]['rectangle'][2] = y_coord\n",
    "            if y_coord > y_max:\n",
    "                detections[pix_val]['rectangle'][3] = y_coord\n",
    "        mask_iter.iternext()\n",
    "    return detections"
   ]
  },
  {
   "cell_type": "code",
   "execution_count": 224,
   "metadata": {
    "collapsed": false
   },
   "outputs": [],
   "source": [
    "det_test = extract_objs_bboxes(cv_mask)"
   ]
  },
  {
   "cell_type": "code",
   "execution_count": 225,
   "metadata": {
    "collapsed": false
   },
   "outputs": [
    {
     "data": {
      "text/plain": [
       "defaultdict(dict,\n",
       "            {0: {'objectClass': 0, 'rectangle': [0, 999, 998, 1499]},\n",
       "             6: {'objectClass': 2978, 'rectangle': [308, 441, 308, 675]},\n",
       "             12: {'objectClass': 2978, 'rectangle': [108, 607, 483, 1055]},\n",
       "             17: {'objectClass': 2978, 'rectangle': [0, 1, 1221, 1498]},\n",
       "             23: {'objectClass': 2978, 'rectangle': [0, 860, 32, 484]},\n",
       "             29: {'objectClass': 976, 'rectangle': [518, 998, 851, 1358]},\n",
       "             35: {'objectClass': 447, 'rectangle': [1, 122, 1, 1217]},\n",
       "             41: {'objectClass': 202, 'rectangle': [291, 457, 291, 1052]},\n",
       "             46: {'objectClass': 774, 'rectangle': [332, 519, 332, 675]},\n",
       "             52: {'objectClass': 982, 'rectangle': [17, 18, 810, 853]},\n",
       "             58: {'objectClass': 774, 'rectangle': [296, 537, 531, 559]},\n",
       "             64: {'objectClass': 1499, 'rectangle': [217, 218, 1292, 1299]},\n",
       "             70: {'objectClass': 1499, 'rectangle': [192, 193, 1489, 1498]},\n",
       "             75: {'objectClass': 1969, 'rectangle': [242, 415, 387, 414]},\n",
       "             81: {'objectClass': 1969, 'rectangle': [220, 428, 333, 378]},\n",
       "             87: {'objectClass': 1969, 'rectangle': [182, 443, 258, 314]},\n",
       "             93: {'objectClass': 1969, 'rectangle': [131, 456, 134, 227]},\n",
       "             99: {'objectClass': 1583, 'rectangle': [497, 577, 497, 661]},\n",
       "             104: {'objectClass': 724, 'rectangle': [674, 901, 735, 742]},\n",
       "             110: {'objectClass': 471, 'rectangle': [643, 671, 421, 421]},\n",
       "             116: {'objectClass': 471, 'rectangle': [852, 904, 1, 164]},\n",
       "             122: {'objectClass': 724, 'rectangle': [903, 998, 73, 745]},\n",
       "             128: {'objectClass': 724, 'rectangle': [521, 522, 871, 1131]},\n",
       "             133: {'objectClass': 1583, 'rectangle': [461, 462, 939, 1011]},\n",
       "             139: {'objectClass': 471, 'rectangle': [506, 507, 885, 935]},\n",
       "             145: {'objectClass': 1583, 'rectangle': [494, 495, 1142, 1227]},\n",
       "             151: {'objectClass': 1583, 'rectangle': [537, 538, 1374, 1466]},\n",
       "             156: {'objectClass': 724, 'rectangle': [659, 660, 1391, 1499]},\n",
       "             162: {'objectClass': 724, 'rectangle': [572, 573, 1211, 1327]},\n",
       "             168: {'objectClass': 471, 'rectangle': [806, 807, 1293, 1356]},\n",
       "             174: {'objectClass': 471, 'rectangle': [639, 640, 1047, 1089]},\n",
       "             180: {'objectClass': 724, 'rectangle': [868, 998, 868, 1498]},\n",
       "             185: {'objectClass': 724, 'rectangle': [442, 493, 442, 637]},\n",
       "             191: {'objectClass': 2982, 'rectangle': [569, 580, 569, 751]},\n",
       "             197: {'objectClass': 1969, 'rectangle': [322, 414, 322, 442]},\n",
       "             203: {'objectClass': 1910, 'rectangle': [394, 445, 394, 605]},\n",
       "             209: {'objectClass': 1583, 'rectangle': [683, 974, 384, 527]},\n",
       "             214: {'objectClass': 1583, 'rectangle': [671, 672, 1463, 1496]},\n",
       "             220: {'objectClass': 1614, 'rectangle': [705, 730, 729, 730]},\n",
       "             226: {'objectClass': 591, 'rectangle': [540, 972, 540, 1327]},\n",
       "             232: {'objectClass': 591, 'rectangle': [491, 492, 1018, 1083]},\n",
       "             238: {'objectClass': 591, 'rectangle': [539, 904, 203, 340]},\n",
       "             243: {'objectClass': 724, 'rectangle': [581, 673, 494, 730]},\n",
       "             249: {'objectClass': 591, 'rectangle': [491, 610, 486, 495]},\n",
       "             255: {'objectClass': 591, 'rectangle': [542, 912, 640, 718]}})"
      ]
     },
     "execution_count": 225,
     "metadata": {},
     "output_type": "execute_result"
    }
   ],
   "source": [
    "det_test"
   ]
  },
  {
   "cell_type": "code",
   "execution_count": null,
   "metadata": {
    "collapsed": true
   },
   "outputs": [],
   "source": []
  },
  {
   "cell_type": "code",
   "execution_count": null,
   "metadata": {
    "collapsed": true
   },
   "outputs": [],
   "source": []
  },
  {
   "cell_type": "markdown",
   "metadata": {
    "heading_collapsed": true
   },
   "source": [
    "# Build dataset scaffolding"
   ]
  },
  {
   "cell_type": "code",
   "execution_count": 221,
   "metadata": {
    "collapsed": true,
    "hidden": true,
    "run_control": {
     "frozen": false,
     "read_only": false
    }
   },
   "outputs": [],
   "source": [
    "def build_dataset():\n",
    "    return\n",
    "\n",
    "def build_object_entry(image_name, img_obj_df):\n",
    "    \n",
    "    objects = {}\n",
    "    return objects\n",
    "\n",
    "def build_image_entry(image_name, image_df):\n",
    "    image_fields = {}\n",
    "    \n",
    "    image_row = image_df[image_df['filename'] == image_name]\n",
    "    image_fields['imageName'] = image_name\n",
    "    image_fields['scene'] = image_row['scene'].values[0]\n",
    "    image_fields['setting'] = image_row['setting'].values[0]\n",
    "\n",
    "    image_fields['objects'] = build_object_entry(image_name)\n",
    "    \n",
    "    return image_fields"
   ]
  },
  {
   "cell_type": "code",
   "execution_count": null,
   "metadata": {
    "collapsed": true,
    "hidden": true,
    "run_control": {
     "frozen": false,
     "read_only": false
    }
   },
   "outputs": [],
   "source": [
    "im"
   ]
  },
  {
   "cell_type": "code",
   "execution_count": 222,
   "metadata": {
    "collapsed": false,
    "hidden": true,
    "run_control": {
     "frozen": false,
     "read_only": false
    }
   },
   "outputs": [
    {
     "data": {
      "text/html": [
       "<div>\n",
       "<table border=\"1\" class=\"dataframe\">\n",
       "  <thead>\n",
       "    <tr style=\"text-align: right;\">\n",
       "      <th></th>\n",
       "      <th>filename</th>\n",
       "      <th>folder</th>\n",
       "      <th>scene</th>\n",
       "      <th>setting</th>\n",
       "    </tr>\n",
       "  </thead>\n",
       "  <tbody>\n",
       "    <tr>\n",
       "      <th>0</th>\n",
       "      <td>ADE_train_00000001.jpg</td>\n",
       "      <td>ADE20K_2016_07_26/images/training/a/airport_te...</td>\n",
       "      <td>airport_terminal</td>\n",
       "      <td>ambiguous</td>\n",
       "    </tr>\n",
       "    <tr>\n",
       "      <th>1</th>\n",
       "      <td>ADE_train_00000002.jpg</td>\n",
       "      <td>ADE20K_2016_07_26/images/training/a/airport_te...</td>\n",
       "      <td>airport_terminal</td>\n",
       "      <td>ambiguous</td>\n",
       "    </tr>\n",
       "    <tr>\n",
       "      <th>2</th>\n",
       "      <td>ADE_train_00000003.jpg</td>\n",
       "      <td>ADE20K_2016_07_26/images/training/a/art_gallery</td>\n",
       "      <td>art_gallery</td>\n",
       "      <td>ambiguous</td>\n",
       "    </tr>\n",
       "    <tr>\n",
       "      <th>3</th>\n",
       "      <td>ADE_train_00000004.jpg</td>\n",
       "      <td>ADE20K_2016_07_26/images/training/b/badlands</td>\n",
       "      <td>badlands</td>\n",
       "      <td>ambiguous</td>\n",
       "    </tr>\n",
       "    <tr>\n",
       "      <th>4</th>\n",
       "      <td>ADE_train_00000005.jpg</td>\n",
       "      <td>ADE20K_2016_07_26/images/training/b/ball_pit</td>\n",
       "      <td>ball_pit</td>\n",
       "      <td>ambiguous</td>\n",
       "    </tr>\n",
       "  </tbody>\n",
       "</table>\n",
       "</div>"
      ],
      "text/plain": [
       "                 filename                                             folder  \\\n",
       "0  ADE_train_00000001.jpg  ADE20K_2016_07_26/images/training/a/airport_te...   \n",
       "1  ADE_train_00000002.jpg  ADE20K_2016_07_26/images/training/a/airport_te...   \n",
       "2  ADE_train_00000003.jpg    ADE20K_2016_07_26/images/training/a/art_gallery   \n",
       "3  ADE_train_00000004.jpg       ADE20K_2016_07_26/images/training/b/badlands   \n",
       "4  ADE_train_00000005.jpg       ADE20K_2016_07_26/images/training/b/ball_pit   \n",
       "\n",
       "              scene    setting  \n",
       "0  airport_terminal  ambiguous  \n",
       "1  airport_terminal  ambiguous  \n",
       "2       art_gallery  ambiguous  \n",
       "3          badlands  ambiguous  \n",
       "4          ball_pit  ambiguous  "
      ]
     },
     "execution_count": 222,
     "metadata": {},
     "output_type": "execute_result"
    }
   ],
   "source": [
    "image_df.head()"
   ]
  },
  {
   "cell_type": "code",
   "execution_count": 223,
   "metadata": {
    "collapsed": false,
    "hidden": true,
    "run_control": {
     "frozen": false,
     "read_only": false
    }
   },
   "outputs": [
    {
     "data": {
      "text/plain": [
       "{'imageName': 'ADE_train_00005940.jpg',\n",
       " 'objects': {},\n",
       " 'scene': 'computer_room',\n",
       " 'setting': 'indoor'}"
      ]
     },
     "execution_count": 223,
     "metadata": {},
     "output_type": "execute_result"
    }
   ],
   "source": [
    "timg= 'ADE_train_00005940.jpg'\n",
    "build_image_entry(timg, image_df)"
   ]
  },
  {
   "cell_type": "code",
   "execution_count": 216,
   "metadata": {
    "collapsed": false,
    "hidden": true,
    "run_control": {
     "frozen": false,
     "read_only": false
    }
   },
   "outputs": [
    {
     "data": {
      "text/plain": [
       "5939    computer_room\n",
       "Name: scene, dtype: object"
      ]
     },
     "execution_count": 216,
     "metadata": {},
     "output_type": "execute_result"
    }
   ],
   "source": [
    "image_df[image_df['filename'] == timg]['scene']"
   ]
  },
  {
   "cell_type": "code",
   "execution_count": 215,
   "metadata": {
    "collapsed": false,
    "hidden": true,
    "run_control": {
     "frozen": false,
     "read_only": false
    }
   },
   "outputs": [
    {
     "data": {
      "text/html": [
       "<div>\n",
       "<table border=\"1\" class=\"dataframe\">\n",
       "  <thead>\n",
       "    <tr style=\"text-align: right;\">\n",
       "      <th></th>\n",
       "      <th>objectnames</th>\n",
       "      <th>objectcounts</th>\n",
       "      <th>proportionClassIsPart</th>\n",
       "      <th>wordnet_found</th>\n",
       "      <th>wordnet_level1</th>\n",
       "      <th>wordnet_synset</th>\n",
       "      <th>wordnet_hypernym</th>\n",
       "      <th>wordnet_gloss</th>\n",
       "      <th>wordnet_synonyms</th>\n",
       "      <th>wordnet_frequency</th>\n",
       "      <th>obj_class</th>\n",
       "    </tr>\n",
       "  </thead>\n",
       "  <tbody>\n",
       "    <tr>\n",
       "      <th>2981</th>\n",
       "      <td>wall socket, wall plug, electric outlet, elect...</td>\n",
       "      <td>1633</td>\n",
       "      <td>0</td>\n",
       "      <td>1</td>\n",
       "      <td>wall socket, wall plug, electric outlet, elect...</td>\n",
       "      <td>wall socket, wall plug, electric outlet, elect...</td>\n",
       "      <td>[wall socket, wall plug, electric outlet, elec...</td>\n",
       "      <td>receptacle providing a place in a wiring syste...</td>\n",
       "      <td>wall socket, wall plug, electric outlet, elect...</td>\n",
       "      <td>1</td>\n",
       "      <td>2982</td>\n",
       "    </tr>\n",
       "  </tbody>\n",
       "</table>\n",
       "</div>"
      ],
      "text/plain": [
       "                                            objectnames objectcounts  \\\n",
       "2981  wall socket, wall plug, electric outlet, elect...         1633   \n",
       "\n",
       "     proportionClassIsPart wordnet_found  \\\n",
       "2981                     0             1   \n",
       "\n",
       "                                         wordnet_level1  \\\n",
       "2981  wall socket, wall plug, electric outlet, elect...   \n",
       "\n",
       "                                         wordnet_synset  \\\n",
       "2981  wall socket, wall plug, electric outlet, elect...   \n",
       "\n",
       "                                       wordnet_hypernym  \\\n",
       "2981  [wall socket, wall plug, electric outlet, elec...   \n",
       "\n",
       "                                          wordnet_gloss  \\\n",
       "2981  receptacle providing a place in a wiring syste...   \n",
       "\n",
       "                                       wordnet_synonyms wordnet_frequency  \\\n",
       "2981  wall socket, wall plug, electric outlet, elect...                 1   \n",
       "\n",
       "      obj_class  \n",
       "2981       2982  "
      ]
     },
     "execution_count": 215,
     "metadata": {},
     "output_type": "execute_result"
    }
   ],
   "source": [
    "obj_df[obj_df['obj_class'] == sample_n]"
   ]
  },
  {
   "cell_type": "code",
   "execution_count": null,
   "metadata": {
    "collapsed": true,
    "hidden": true,
    "run_control": {
     "frozen": false,
     "read_only": false
    }
   },
   "outputs": [],
   "source": []
  },
  {
   "cell_type": "code",
   "execution_count": null,
   "metadata": {
    "collapsed": true,
    "hidden": true,
    "run_control": {
     "frozen": false,
     "read_only": false
    }
   },
   "outputs": [],
   "source": []
  },
  {
   "cell_type": "code",
   "execution_count": null,
   "metadata": {
    "collapsed": true,
    "hidden": true,
    "run_control": {
     "frozen": false,
     "read_only": false
    }
   },
   "outputs": [],
   "source": []
  },
  {
   "cell_type": "code",
   "execution_count": null,
   "metadata": {
    "collapsed": true,
    "hidden": true,
    "run_control": {
     "frozen": false,
     "read_only": false
    }
   },
   "outputs": [],
   "source": []
  },
  {
   "cell_type": "code",
   "execution_count": null,
   "metadata": {
    "collapsed": true,
    "hidden": true,
    "run_control": {
     "frozen": false,
     "read_only": false
    }
   },
   "outputs": [],
   "source": []
  },
  {
   "cell_type": "code",
   "execution_count": null,
   "metadata": {
    "collapsed": true,
    "hidden": true,
    "run_control": {
     "frozen": false,
     "read_only": false
    }
   },
   "outputs": [],
   "source": []
  },
  {
   "cell_type": "markdown",
   "metadata": {
    "heading_collapsed": true
   },
   "source": [
    "# hide"
   ]
  },
  {
   "cell_type": "code",
   "execution_count": null,
   "metadata": {
    "collapsed": false,
    "hidden": true,
    "run_control": {
     "frozen": false,
     "read_only": false
    }
   },
   "outputs": [],
   "source": [
    "obj_cat = r_chan.tolist()\n",
    "build_val_list = [item for sublist in obj_cat for item in sublist]"
   ]
  },
  {
   "cell_type": "code",
   "execution_count": null,
   "metadata": {
    "collapsed": false,
    "hidden": true,
    "run_control": {
     "frozen": false,
     "read_only": false
    }
   },
   "outputs": [],
   "source": [
    "# pd.Series([sc.split('/')[-1] for sc in ade_index.scene.tolist() if sc.split('/')[0] != sc.split('/')[-1]]).value_counts()"
   ]
  },
  {
   "cell_type": "code",
   "execution_count": null,
   "metadata": {
    "collapsed": true,
    "hidden": true,
    "run_control": {
     "frozen": false,
     "read_only": false
    }
   },
   "outputs": [],
   "source": [
    "# for qt, cats in q_cat_defs.items():\n",
    "#     obj_count = obj_df[obj_df['objectnames'].isin(cats)].sum()[1]\n",
    "#     print(qt, int(obj_count))"
   ]
  }
 ],
 "metadata": {
  "kernelspec": {
   "display_name": "Python 3",
   "language": "python",
   "name": "python3"
  },
  "language_info": {
   "codemirror_mode": {
    "name": "ipython",
    "version": 3
   },
   "file_extension": ".py",
   "mimetype": "text/x-python",
   "name": "python",
   "nbconvert_exporter": "python",
   "pygments_lexer": "ipython3",
   "version": "3.5.2"
  }
 },
 "nbformat": 4,
 "nbformat_minor": 2
}
