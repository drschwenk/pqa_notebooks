{
 "cells": [
  {
   "cell_type": "code",
   "execution_count": 145,
   "metadata": {
    "collapsed": true
   },
   "outputs": [],
   "source": [
    "%%capture\n",
    "import matplotlib as mpl\n",
    "mpl.use(\"Agg\")\n",
    "import matplotlib.pylab as plt\n",
    "#%matplotlib notebook\n",
    "%matplotlib inline\n",
    "%load_ext base16_mplrc\n",
    "%base16_mplrc light default\n",
    "#%base16_mplrc dark solarized\n",
    "plt.rcParams['grid.linewidth'] = 0\n",
    "plt.rcParams['figure.figsize'] = (5.0, 5.0)"
   ]
  },
  {
   "cell_type": "code",
   "execution_count": 152,
   "metadata": {
    "collapsed": false,
    "run_control": {
     "frozen": false,
     "read_only": false
    }
   },
   "outputs": [],
   "source": [
    "import numpy as np\n",
    "from itertools import product, combinations, permutations\n",
    "\n",
    "from mpl_toolkits.mplot3d import Axes3D\n",
    "from matplotlib.patches import FancyArrowPatch\n",
    "from mpl_toolkits.mplot3d import proj3d\n",
    "\n",
    "def render_vect(vect_points):\n",
    "    fig = plt.figure()\n",
    "    ax = fig.gca(projection='3d')\n",
    "    ax.set_aspect(\"equal\")\n",
    "\n",
    "    ax.scatter([0],[0],[0],color=\"r\", s=200)\n",
    "    ax.set_xlim([-1, 1])\n",
    "    ax.set_ylim([-1,1])\n",
    "    ax.set_zlim([-1,1])\n",
    "\n",
    "\n",
    "    class Arrow3D(FancyArrowPatch):\n",
    "        def __init__(self, xs, ys, zs, *args, **kwargs):\n",
    "            FancyArrowPatch.__init__(self, (0,0), (0,0), *args, **kwargs)\n",
    "            self._verts3d = xs, ys, zs\n",
    "\n",
    "        def draw(self, renderer):\n",
    "            xs3d, ys3d, zs3d = self._verts3d\n",
    "            xs, ys, zs = proj3d.proj_transform(xs3d, ys3d, zs3d, renderer.M)\n",
    "            self.set_positions((xs[0],ys[0]),(xs[1],ys[1]))\n",
    "            FancyArrowPatch.draw(self, renderer)\n",
    "\n",
    "    P = [[0,0],[1,0],[1,0]]\n",
    "    a = Arrow3D(*vect_points, mutation_scale=20, lw=1.5, arrowstyle=\"-|>\", color=\"k\")\n",
    "    ax.add_artist(a)\n",
    "    plt.tight_layout()\n",
    "    plt.savefig('./vect_renderings/' + str(list(zip(*vect_points))[0]) + '.png')"
   ]
  },
  {
   "cell_type": "code",
   "execution_count": 120,
   "metadata": {
    "collapsed": false
   },
   "outputs": [],
   "source": [
    "possible_start_points = list(set(permutations([0,0, 1, 1, -1, -1], 3)))"
   ]
  },
  {
   "cell_type": "code",
   "execution_count": 123,
   "metadata": {
    "collapsed": false
   },
   "outputs": [
    {
     "data": {
      "text/plain": [
       "[(0, 1, 1),\n",
       " (1, 0, 0),\n",
       " (1, -1, -1),\n",
       " (1, 0, 1),\n",
       " (-1, 1, -1),\n",
       " (1, 1, -1),\n",
       " (0, -1, -1),\n",
       " (0, 0, -1),\n",
       " (-1, 0, 1),\n",
       " (-1, 0, 0),\n",
       " (-1, 0, -1),\n",
       " (0, 0, 1),\n",
       " (0, -1, 1),\n",
       " (0, -1, 0),\n",
       " (-1, 1, 0),\n",
       " (1, 1, 0),\n",
       " (-1, 1, 1),\n",
       " (-1, -1, 1),\n",
       " (1, 0, -1),\n",
       " (1, -1, 0),\n",
       " (-1, -1, 0),\n",
       " (1, -1, 1),\n",
       " (0, 1, 0),\n",
       " (0, 1, -1)]"
      ]
     },
     "execution_count": 123,
     "metadata": {},
     "output_type": "execute_result"
    }
   ],
   "source": [
    "possible_start_points"
   ]
  },
  {
   "cell_type": "code",
   "execution_count": 154,
   "metadata": {
    "collapsed": false
   },
   "outputs": [],
   "source": [
    "for start_point in possible_start_points:\n",
    "#     start_point = possible_start_points[2]\n",
    "    end_point = [0, 0, 0]\n",
    "    v_points = list(zip(start_point, end_point))\n",
    "    print(start_point)\n",
    "    render_vect(v_points)"
   ]
  },
  {
   "cell_type": "code",
   "execution_count": null,
   "metadata": {
    "collapsed": true
   },
   "outputs": [],
   "source": []
  },
  {
   "cell_type": "code",
   "execution_count": null,
   "metadata": {
    "collapsed": true
   },
   "outputs": [],
   "source": []
  },
  {
   "cell_type": "code",
   "execution_count": null,
   "metadata": {
    "collapsed": true
   },
   "outputs": [],
   "source": []
  },
  {
   "cell_type": "markdown",
   "metadata": {
    "heading_collapsed": true
   },
   "source": [
    "# hide"
   ]
  },
  {
   "cell_type": "code",
   "execution_count": null,
   "metadata": {
    "collapsed": true,
    "hidden": true
   },
   "outputs": [],
   "source": [
    "# from mpl_toolkits.mplot3d import Axes3D\n",
    "# import numpy as np\n",
    "# from itertools import product, combinations\n",
    "\n",
    "\n",
    "# from matplotlib.patches import FancyArrowPatch\n",
    "# from mpl_toolkits.mplot3d import proj3d\n",
    "\n",
    "# fig = plt.figure()\n",
    "# ax = fig.gca(projection='3d')\n",
    "# ax.set_aspect(\"equal\")\n",
    "\n",
    "# #draw cube\n",
    "# # r = [-1, 1]\n",
    "# # for s, e in combinations(np.array(list(product(r,r,r))), 2):\n",
    "# #     if np.sum(np.abs(s-e)) == r[1]-r[0]:\n",
    "# #         ax.plot3D(*zip(s,e), color=\"b\")\n",
    "\n",
    "# #draw sphere\n",
    "# # u, v = np.mgrid[0:2*np.pi:20j, 0:np.pi:10j]\n",
    "# # r = 2\n",
    "# # x= r * np.cos(u)*np.sin(v)\n",
    "# # y= r * np.sin(u)*np.sin(v)\n",
    "# # z= r * np.cos(v)\n",
    "# # ax.plot_wireframe(x, y, z, color=\"grey\")\n",
    "\n",
    "\n",
    "\n",
    "# #draw a point\n",
    "# ax.scatter([0],[0],[0],color=\"r\",s=200)\n",
    "# ax.set_xlim([-1, 1])\n",
    "# ax.set_ylim([-1,1])\n",
    "# ax.set_zlim([-1,1])\n",
    "\n",
    "\n",
    "# #draw a vector\n",
    "\n",
    "# # cset = ax.contourf(x, y, z, zdir='z', offset=-2, cmap=cm.coolwarm)\n",
    "# # cset = ax.contourf(x, y, z, zdir='x', offset=-2, cmap=cm.coolwarm)\n",
    "# # cset = ax.contourf(x, y, z, zdir='y', offset=2, cmap=cm.coolwarm)\n",
    "\n",
    "# class Arrow3D(FancyArrowPatch):\n",
    "#     def __init__(self, xs, ys, zs, *args, **kwargs):\n",
    "#         FancyArrowPatch.__init__(self, (0,0), (0,0), *args, **kwargs)\n",
    "#         self._verts3d = xs, ys, zs\n",
    "\n",
    "#     def draw(self, renderer):\n",
    "#         xs3d, ys3d, zs3d = self._verts3d\n",
    "#         xs, ys, zs = proj3d.proj_transform(xs3d, ys3d, zs3d, renderer.M)\n",
    "#         self.set_positions((xs[0],ys[0]),(xs[1],ys[1]))\n",
    "#         FancyArrowPatch.draw(self, renderer)\n",
    "        \n",
    "# P = [[0,0],[1,0],[1,0]]\n",
    "# a = Arrow3D(*P, mutation_scale=20, lw=1.5, arrowstyle=\"-|>\", color=\"k\")\n",
    "# ax.add_artist(a)\n",
    "# plt.show()"
   ]
  },
  {
   "cell_type": "code",
   "execution_count": 78,
   "metadata": {
    "collapsed": false,
    "hidden": true
   },
   "outputs": [],
   "source": [
    "# from mpl_toolkits.mplot3d import axes3d\n",
    "# import matplotlib.pyplot as plt\n",
    "# from matplotlib import cm\n",
    "\n",
    "# fig = plt.figure()\n",
    "# ax = fig.gca(projection='3d')\n",
    "# X, Y, Z = axes3d.get_test_data(0.05)\n",
    "# ax.plot_surface(X, Y, Z, rstride=8, cstride=8, alpha=0.3)\n",
    "# cset = ax.contourf(X, Y, Z, zdir='z', offset=-100, cmap=cm.coolwarm)\n",
    "# cset = ax.contourf(X, Y, Z, zdir='x', offset=-40, cmap=cm.coolwarm)\n",
    "# cset = ax.contourf(X, Y, Z, zdir='y', offset=40, cmap=cm.coolwarm)\n",
    "\n",
    "# ax.set_xlabel('X')\n",
    "# ax.set_xlim(-40, 40)\n",
    "# ax.set_ylabel('Y')\n",
    "# ax.set_ylim(-40, 40)\n",
    "# ax.set_zlabel('Z')\n",
    "# ax.set_zlim(-100, 100)\n",
    "\n",
    "# plt.show()"
   ]
  }
 ],
 "metadata": {
  "kernelspec": {
   "display_name": "Python 3",
   "language": "python",
   "name": "python3"
  },
  "language_info": {
   "codemirror_mode": {
    "name": "ipython",
    "version": 3
   },
   "file_extension": ".py",
   "mimetype": "text/x-python",
   "name": "python",
   "nbconvert_exporter": "python",
   "pygments_lexer": "ipython3",
   "version": "3.6.0"
  }
 },
 "nbformat": 4,
 "nbformat_minor": 2
}
